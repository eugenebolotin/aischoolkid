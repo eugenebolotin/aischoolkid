{
 "cells": [
  {
   "cell_type": "code",
   "execution_count": 1,
   "metadata": {},
   "outputs": [],
   "source": [
    "import sys\n",
    "\n",
    "import stanfordnlp\n",
    "from spacy_stanfordnlp import StanfordNLPLanguage\n",
    "from ipywidgets import widgets"
   ]
  },
  {
   "cell_type": "code",
   "execution_count": 2,
   "metadata": {},
   "outputs": [],
   "source": [
    "import warnings\n",
    "warnings.filterwarnings('ignore')"
   ]
  },
  {
   "cell_type": "code",
   "execution_count": 3,
   "metadata": {},
   "outputs": [
    {
     "name": "stdout",
     "output_type": "stream",
     "text": [
      "Using the default treebank \"ru_syntagrus\" for language \"ru\".\n",
      "Would you like to download the models for: ru_syntagrus now? (Y/n)\n",
      "Y\n",
      "\n",
      "Default download directory: /Users/eugenebolotin/stanfordnlp_resources\n",
      "Hit enter to continue or type an alternate directory.\n",
      "\n",
      "\n",
      "Downloading models for: ru_syntagrus\n",
      "Download location: /Users/eugenebolotin/stanfordnlp_resources/ru_syntagrus_models.zip\n"
     ]
    },
    {
     "name": "stderr",
     "output_type": "stream",
     "text": [
      "100%|██████████| 236M/236M [08:08<00:00, 483kB/s] \n"
     ]
    },
    {
     "name": "stdout",
     "output_type": "stream",
     "text": [
      "\n",
      "Download complete.  Models saved to: /Users/eugenebolotin/stanfordnlp_resources/ru_syntagrus_models.zip\n",
      "Extracting models file for: ru_syntagrus\n",
      "Cleaning up...Done.\n"
     ]
    }
   ],
   "source": [
    "stanfordnlp.download(\"ru\")"
   ]
  },
  {
   "cell_type": "code",
   "execution_count": 4,
   "metadata": {},
   "outputs": [],
   "source": [
    "%%capture\n",
    "snlp = stanfordnlp.Pipeline(lang=\"ru\")\n",
    "nlp = StanfordNLPLanguage(snlp)"
   ]
  },
  {
   "cell_type": "code",
   "execution_count": 5,
   "metadata": {},
   "outputs": [],
   "source": [
    "def extract_sentences_basis(text):\n",
    "    sentences = text.strip().split('.')\n",
    "\n",
    "    for sentence in sentences:\n",
    "        doc = nlp(sentence)\n",
    "        subject, predicate = '', ''\n",
    "        for token in doc:\n",
    "            if token.dep_ == 'nsubj':\n",
    "                subject = token.text\n",
    "            elif token.dep_ ==  'root':\n",
    "                predicate = token.text\n",
    "        print(subject, predicate)"
   ]
  },
  {
   "cell_type": "code",
   "execution_count": 6,
   "metadata": {},
   "outputs": [],
   "source": [
    "def button_click(button):\n",
    "    extract_sentences_basis(textarea.value)"
   ]
  },
  {
   "cell_type": "code",
   "execution_count": 7,
   "metadata": {
    "scrolled": true
   },
   "outputs": [
    {
     "data": {
      "application/vnd.jupyter.widget-view+json": {
       "model_id": "4aa6b98f8b354a3ba11e4aca4c288905",
       "version_major": 2,
       "version_minor": 0
      },
      "text/plain": [
       "Textarea(value='')"
      ]
     },
     "metadata": {},
     "output_type": "display_data"
    },
    {
     "data": {
      "application/vnd.jupyter.widget-view+json": {
       "model_id": "37fa4d3e16c5460d902e8d4dfa6f2130",
       "version_major": 2,
       "version_minor": 0
      },
      "text/plain": [
       "Button(description='Calculate', style=ButtonStyle())"
      ]
     },
     "metadata": {},
     "output_type": "display_data"
    },
    {
     "name": "stdout",
     "output_type": "stream",
     "text": [
      "ветер разметал\n",
      "облака плывут\n",
      "белочка пробежала\n",
      "роса сверкала\n",
      "собака зарычала\n",
      " \n"
     ]
    }
   ],
   "source": [
    "textarea = widgets.Textarea()\n",
    "button = widgets.Button(description='Calculate')\n",
    "display(textarea)\n",
    "display(button)\n",
    "\n",
    "button.on_click(button_click)"
   ]
  },
  {
   "cell_type": "code",
   "execution_count": null,
   "metadata": {},
   "outputs": [],
   "source": []
  }
 ],
 "metadata": {
  "kernelspec": {
   "display_name": "Python 3",
   "language": "python",
   "name": "python3"
  },
  "language_info": {
   "codemirror_mode": {
    "name": "ipython",
    "version": 3
   },
   "file_extension": ".py",
   "mimetype": "text/x-python",
   "name": "python",
   "nbconvert_exporter": "python",
   "pygments_lexer": "ipython3",
   "version": "3.6.4"
  }
 },
 "nbformat": 4,
 "nbformat_minor": 2
}
